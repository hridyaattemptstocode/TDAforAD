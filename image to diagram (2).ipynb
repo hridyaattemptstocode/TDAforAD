{
 "cells": [
  {
   "cell_type": "code",
   "execution_count": 1,
   "id": "d5dc3f35",
   "metadata": {},
   "outputs": [
    {
     "name": "stderr",
     "output_type": "stream",
     "text": [
      "C:\\Users\\jeeva\\anaconda3\\lib\\site-packages\\paramiko\\transport.py:219: CryptographyDeprecationWarning: Blowfish has been deprecated\n",
      "  \"class\": algorithms.Blowfish,\n"
     ]
    }
   ],
   "source": [
    "## load necessary libraries\n",
    "%matplotlib inline\n",
    "#%matplotlib widget\n",
    "import numpy as np\n",
    "import matplotlib.pyplot as plt\n",
    "from mpl_toolkits.mplot3d import Axes3D\n",
    "from matplotlib.widgets import Slider, Button, RadioButtons\n",
    "import os,time,subprocess,glob\n",
    "from PIL import Image\n",
    "import cripser as cr\n",
    "import tcripser as tcr\n",
    "import persim\n",
    "import skimage\n",
    "from skimage import io\n",
    "from skimage.transform import rotate\n",
    "from skimage.data import cells3d\n",
    "from skimage.filters import threshold_otsu\n",
    "from scipy.ndimage import distance_transform_edt,convolve\n",
    "import os, re\n",
    "from tkinter import filedialog\n",
    "import tkinter as tk\n"
   ]
  },
  {
   "cell_type": "code",
   "execution_count": 2,
   "id": "45eb3e28",
   "metadata": {},
   "outputs": [],
   "source": [
    "def dt(img,radius=15,signed=False):\n",
    "#    bw_img = (img >= rank.otsu(img, disk(radius)))\n",
    "    bw_img = (img >= threshold_otsu(img))\n",
    "    dt_img = distance_transform_edt(bw_img)\n",
    "    if signed:\n",
    "        dt_img -= distance_transform_edt(~bw_img)\n",
    "    return(dt_img)\n",
    "\n",
    "def explore_slices(data, cmap=\"gray\"):\n",
    "    from ipywidgets import interact\n",
    "    N = data.shape[-1]\n",
    "    @interact(plane=(0, N - 1))\n",
    "    def display_slice(plane=N//2):\n",
    "        fig, ax = plt.subplots(figsize=(20, 5))\n",
    "        plt.imshow(data[:,:,plane],cmap=cmap)\n",
    "        plt.show()\n",
    "    return display_slice\n"
   ]
  },
  {
   "cell_type": "code",
   "execution_count": null,
   "id": "5f09bd98",
   "metadata": {},
   "outputs": [],
   "source": [
    "def load_image():\n",
    "    root = tk.Tk()\n",
    "    root.withdraw() # Hide the root window\n",
    "\n",
    "    # Let the user choose the file\n",
    "    file_path = filedialog.askopenfilename()\n",
    "\n",
    "    return file_path\n",
    "\n",
    "# Load image data interactively\n",
    "imgfile = load_image()\n",
    "\n",
    "# load image data\n",
    "if os.path.isfile(imgfile):\n",
    "    img2d = np.array(Image.open(imgfile).convert('L'))\n",
    "else: # if file is not found, load the demo img from skimage\n",
    "    img2d = skimage.data.camera()\n",
    "    io.imsave(imgfile, img2d)\n",
    "\n",
    "## apply distance transform\n",
    "img2d_dt = dt(img2d)\n",
    "\n",
    "fig,axs = plt.subplots(1,2)\n",
    "axs[0].imshow(img2d)\n",
    "axs[1].imshow(img2d_dt)\n",
    "print(img2d.shape, img2d.dtype, f\"{np.min(img2d)}--{np.max(img2d)}\")\n",
    "plt.show()"
   ]
  },
  {
   "cell_type": "code",
   "execution_count": null,
   "id": "861bc52f",
   "metadata": {},
   "outputs": [],
   "source": [
    "start = time.time()\n",
    "pd = cr.computePH(img2d)\n",
    "pds = [pd[pd[:,0] == i] for i in range(3)]\n",
    "print(\"Betti numbers: \",[len(pds[i]) for i in range(len(pds))])\n",
    "\n",
    "# compute PH for the T-construction of the original image (pixel value filtration)\n",
    "pdt = tcr.computePH(img2d)\n",
    "pdst = [pdt[pdt[:,0] == i] for i in range(3)]\n",
    "print(\"Betti numbers: \",[len(pdst[i]) for i in range(len(pdst))])\n",
    "\n",
    "print (\"elapsed_time:{} sec\".format(time.time() - start))\n",
    "## plot persistent diagram using persim\n",
    "fig,axs = plt.subplots(1,2)\n",
    "persim.plot_diagrams([p[:,1:3] for p in pds], ax=axs[0], title='V-construction')\n",
    "persim.plot_diagrams([p[:,1:3] for p in pdst], ax=axs[1], title='T-construction')\n"
   ]
  }
 ],
 "metadata": {
  "kernelspec": {
   "display_name": "Python 3 (ipykernel)",
   "language": "python",
   "name": "python3"
  },
  "language_info": {
   "codemirror_mode": {
    "name": "ipython",
    "version": 3
   },
   "file_extension": ".py",
   "mimetype": "text/x-python",
   "name": "python",
   "nbconvert_exporter": "python",
   "pygments_lexer": "ipython3",
   "version": "3.9.12"
  }
 },
 "nbformat": 4,
 "nbformat_minor": 5
}
